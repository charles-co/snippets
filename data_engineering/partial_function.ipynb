{
 "cells": [
  {
   "cell_type": "code",
   "execution_count": 1,
   "metadata": {},
   "outputs": [
    {
     "name": "stdout",
     "output_type": "stream",
     "text": [
      "6\n"
     ]
    }
   ],
   "source": [
    "import random\n",
    "import time\n",
    "\n",
    "from functools import partial\n",
    "\n",
    "import multiprocessing as mp\n",
    "\n",
    "import pandas as pd\n",
    "import numpy as np\n",
    "\n",
    "from partial_function import long_crunching_task"
   ]
  },
  {
   "attachments": {},
   "cell_type": "markdown",
   "metadata": {},
   "source": [
    "# Example"
   ]
  },
  {
   "cell_type": "code",
   "execution_count": 4,
   "metadata": {},
   "outputs": [
    {
     "name": "stdout",
     "output_type": "stream",
     "text": [
      "6\n"
     ]
    }
   ],
   "source": [
    "if __name__ == \"__main__\":\n",
    "    def multiply(x: int, y: int) -> int:\n",
    "        return x * y\n",
    "\n",
    "    # Create a partial function with x=2\n",
    "    double = partial(multiply, 2)\n",
    "\n",
    "    # Call the partial function with y=3\n",
    "    result = double(3)\n",
    "\n",
    "    print(result)  # Output: 6"
   ]
  },
  {
   "attachments": {},
   "cell_type": "markdown",
   "metadata": {},
   "source": [
    "# Scenario: You have a function from a file that takes a long time to run."
   ]
  },
  {
   "cell_type": "code",
   "execution_count": 7,
   "metadata": {},
   "outputs": [
    {
     "name": "stdout",
     "output_type": "stream",
     "text": [
      "185\n",
      "    A   B    C\n",
      "0  57  50  292\n",
      "1  75  62  322\n",
      "2  80  47  312\n",
      "3  31   7  223\n",
      "4  96  42  323\n"
     ]
    }
   ],
   "source": [
    "if __name__ == \"__main__\":\n",
    "    \n",
    "    # Create a DataFrame with 1 million rows and 2 columns\n",
    "    \n",
    "    df = pd.DataFrame(\n",
    "        np.random.randint(low=2, high=100, size=(1000000, 2)),\n",
    "        columns=[\"A\", \"B\"]\n",
    "    )\n",
    "\n",
    "    # Simulating a runtime value that is used in the long crunching task\n",
    "    offset = random.randint(100, 200)\n",
    "    \n",
    "    print(offset)\n",
    "\n",
    "    with mp.Pool(mp.cpu_count()) as pool:\n",
    "\n",
    "        new_df = np.split(df, 10)\n",
    "\n",
    "        fn = partial(long_crunching_task, offset=offset)\n",
    "        df = pd.concat(pool.map(fn, new_df), ignore_index=True)\n",
    "\n",
    "    print(df.head())\n"
   ]
  },
  {
   "cell_type": "code",
   "execution_count": null,
   "metadata": {},
   "outputs": [],
   "source": []
  }
 ],
 "metadata": {
  "kernelspec": {
   "display_name": "Python 3",
   "language": "python",
   "name": "python3"
  },
  "language_info": {
   "codemirror_mode": {
    "name": "ipython",
    "version": 3
   },
   "file_extension": ".py",
   "mimetype": "text/x-python",
   "name": "python",
   "nbconvert_exporter": "python",
   "pygments_lexer": "ipython3",
   "version": "3.10.8"
  },
  "orig_nbformat": 4
 },
 "nbformat": 4,
 "nbformat_minor": 2
}
